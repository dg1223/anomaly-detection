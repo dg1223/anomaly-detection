import csv
import pandas as pd
import pyspark.sql.functions as f
import pyspark.sql.types
from pyspark.sql.types import (
    StructType,
    StructField,
    StringType,
    ArrayType,
    DoubleType,
    TimestampType,
    LongType,
    IntegerType,
)
from pyspark.sql.session import SparkSession
import os
import json
from IPython.display import display

spark = SparkSession.builder.getOrCreate()
from src.caaswx.spark._transformers.ipfeaturegenerator import IPFeatureGenerator


# df = spark.createDataFrame(pd.read_csv('data/export(3).csv'))
# df = df.withColumn(
#             "SM_TIMESTAMP",
#             f.col("SM_TIMESTAMP").cast(
#                 TimestampType()
#             ),
#         )
# df.write.parquet('data/parquet_data/ip_feature_generator_tests/df.parquet')
# test_df = spark.read.parquet('data/parquet_data/ip_feature_generator_tests/df.parquet')
#
# test_df.show()

ans_schema = StructType(
    [
        StructField("SM_SESSIONID", StringType()),
        StructField(
            "window",
            StructType(
                [
                    StructField("start", StringType()),
                    StructField("end", StringType()),
                ]
            ),
            False,
        ),
        StructField("IP_APP", ArrayType(StringType())),
        StructField("IP_AVG_TIME_BT_RECORDS", DoubleType()),
        StructField("IP_MAX_TIME_BT_RECORDS", LongType()),
        StructField("IP_MIN_TIME_BT_RECORDS", LongType()),
        StructField("IP_COUNT_ADMIN_LOGIN", LongType()),
        StructField("IP_COUNT_ADMIN_LOGOUT", LongType()),
        StructField("IP_COUNT_ADMIN_REJECT", LongType()),
        StructField("IP_COUNT_AUTH_ACCEPT", LongType()),
        StructField("IP_COUNT_ADMIN_ATTEMPT", LongType()),
        StructField("IP_COUNT_AUTH_CHALLENGE", LongType()),
        StructField("IP_COUNT_AUTH_LOGOUT", LongType()),
        StructField("IP_COUNT_AUTH_REJECT", LongType()),
        StructField("IP_COUNT_AZ_ACCEPT", LongType()),
        StructField("IP_COUNT_AZ_REJECT", LongType()),
        StructField("IP_COUNT_FAILED", LongType()),
        StructField("IP_COUNT_GET", LongType()),
        StructField("IP_COUNT_POST", LongType()),
        StructField("IP_COUNT_HTTP_METHODS", LongType()),
        StructField("IP_COUNT_OU_AMS", LongType()),
        StructField("IP_COUNT_OU_CMS", LongType()),
        StructField("IP_COUNT_OU_IDENTITY", LongType()),
        StructField("IP_COUNT_OU_CRED", LongType()),
        StructField("IP_COUNT_OU_SECUREKEY", LongType()),
        StructField("IP_COUNT_PORTAL_MYA", LongType()),
        StructField("IP_COUNT_PORTAL_MYBA", LongType()),
        StructField("IP_COUNT_UNIQUE_ACTIONS", LongType()),
        StructField("IP_COUNT_UNIQUE_EVENTS", LongType()),
        StructField("IP_COUNT_UNIQUE_USERNAME", LongType()),
        StructField("IP_COUNT_UNIQUE_RESOURCES", LongType()),
        StructField("IP_COUNT_UNIQUE_SESSIONS", LongType()),
        StructField("IP_COUNT_PORTAL_RAC", IntegerType()),
        StructField("IP_COUNT_RECORDS", LongType()),
        StructField("IP_COUNT_VISIT", LongType()),
        StructField("IP_COUNT_VALIDATE_ACCEPT", LongType()),
        StructField("IP_COUNT_VALIDATE_REJECT", LongType()),
        StructField("IP_UNIQUE_SM_ACTIONS", ArrayType(StringType())),
        StructField("IP_UNIQUE_USERNAME", ArrayType(StringType())),
        StructField("IP_UNIQUE_SM_SESSION", ArrayType(StringType())),
        StructField("IP_UNIQUE_SM_PORTALS", ArrayType(StringType())),
        StructField("IP_UNIQUE_SM_TRANSACTIONS", ArrayType(StringType())),
        StructField("IP_UNIQUE_USER_OU", ArrayType(StringType())),
        StructField("IP_UNIQUE_REP_APP", ArrayType(StringType())),
        StructField("IP_TIMESTAMP", StringType()),
        StructField("IP_COUNT_UNIQUE_OU", LongType()),
    ]
)

ans_data = [
    (
        "+8k93/7mL4V5xFpdrYof8DbQO3U=",
        {
            "start": "2018-11-09T20:45:00.000+0000",
            "end": "2018-11-09T21:00:00.000+0000",
        },
        [
            "/gol-ged/",
        ],
        0.142857142857143,1,0,0,0,0,0,0,0,0,0,7,0,0,7,0,7,7,0,7,0,0,2,0,1,1,1,7,1,2,7,0,0,0,
        ["GET"],["cn=f41b05cc-777d-4259-ab8d-96baa58b1e18"],["+8k93/7mL4V5xFpdrYof8DbQO3U="],
        ["/gol-ged/iica/repdtc/prot/Xfer?xTo=taxReturnsTabId","/gol-ged/mima/repmyccnt/prot/txrtrns.action",
         "/gol-ged/mima/repmyccnt/prot/unrdMlCnt.action","/gol-ged/tuvr/repvmr/prot/ajaxVwRtnLst.action",
         "/gol-ged/iica/repdtc/prot/viewDTCInfoAjax.action",
         "/gol-ged/iica/repdtc/prot/strtVwDTCInfAjax.action","/gol-ged/tuvr/repvmr/prot/ajaxCrryvr.action"],
        ["000000000000000000000000cdc16d5d-1cb8-5be5f366-0023-0937408c","000000000000000000000000cdc16d5d-1cb8-5be5f366-0023-46a32c24",
         "000000000000000000000000cdc16d5d-1cb8-5be5f367-0023-5e482c24",
         "000000000000000000000000cdc16d5d-1cb7-5be5f367-001c-a5bc1c99","000000000000000000000000cdc16d5d-1c46-5be5f367-0023-ab5b647f",
         "000000000000000000000000cdc16d5d-1c46-5be5f367-0023-312a6ec6","000000000000000000000000cdc16d5d-1c12-5be5f367-002d-a7a6562f"]
        ,["ou=Identity,"],["repdtc/","repmyccnt/","repvmr/"],
        "2018-11-09T20:51:50.000+0000",1
    )
]

ans_df = spark.createDataFrame(ans_data, schema=ans_schema)

ans_df = ans_df.withColumn(
            "window",
            f.col("window").cast(
                StructType(
                    [
                        StructField("start", TimestampType()),
                        StructField("end", TimestampType()),
                    ]
                )
            ),
        )
ans_df = ans_df.withColumn(
            "IP_TIMESTAMP",
            f.col("IP_TIMESTAMP").cast(
                TimestampType()
            ),
        )
ans_df.write.parquet("./data/parquet_data/ip_feature_generator_tests/ans_data.parquet")

