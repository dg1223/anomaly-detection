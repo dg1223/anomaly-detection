{
 "cells": [
  {
   "cell_type": "code",
   "execution_count": null,
   "metadata": {
    "collapsed": true
   },
   "outputs": [],
   "source": [
    "from pyspark.sql.types import (\n",
    "    StructType,\n",
    "    StructField,\n",
    "    StringType,\n",
    ")\n",
    "\n",
    "from src.caaswx.spark.scripts.loadWriteParquet import writeParquet\n",
    "\n",
    "\n",
    "def generateCnExtractorData():\n",
    "    testSchema = StructType(\n",
    "        [\n",
    "            StructField(\"SM_USERNAME\", StringType()),\n",
    "        ]\n",
    "    )\n",
    "\n",
    "    testData = [\n",
    "        (\"cn=hasgdvfashdgfahg,ou=Credential,ou=PR\",),\n",
    "        (\"asjkdhfbjksdlbaf\",),\n",
    "    ]\n",
    "\n",
    "    ansSchema = StructType(\n",
    "        [\n",
    "            StructField(\"SM_USERNAME\", StringType()),\n",
    "            StructField(\"CN\", StringType()),\n",
    "        ]\n",
    "    )\n",
    "\n",
    "    ansData = [\n",
    "        (\"cn=hasgdvfashdgfahg,ou=Credential,ou=PR\", \"hasgdvfashdgfahg\"),\n",
    "        (\"asjkdhfbjksdlbaf\", \"asjkdhfbjksdlbaf\"),\n",
    "    ]\n",
    "\n",
    "    df1 = writeParquet(\n",
    "        \"/home/vmadmin/PycharmProjects/sw-test/sagar/caa-streamworx/data/parquet_data/cn_extractor_tests\"\n",
    "        \"/SM_USERNAME_2_examples.parquet\",\n",
    "        testSchema,\n",
    "        testData,\n",
    "    )\n",
    "\n",
    "    df2 = writeParquet(\n",
    "        \"/home/vmadmin/PycharmProjects/sw-test/sagar/caa-streamworx/data/parquet_data/cn_extractor_tests\"\n",
    "        \"/expected_SM_USERNAME_2_examples.parquet\",\n",
    "        ansSchema,\n",
    "        ansData,\n",
    "    )\n",
    "\n",
    "    df1.show()\n",
    "    df2.show()\n",
    "\n",
    "\n",
    "generateCnExtractorData()\n"
   ]
  }
 ],
 "metadata": {
  "kernelspec": {
   "display_name": "Python 3 (ipykernel)",
   "language": "python",
   "name": "python3"
  },
  "language_info": {
   "codemirror_mode": {
    "name": "ipython",
    "version": 3
   },
   "file_extension": ".py",
   "mimetype": "text/x-python",
   "name": "python",
   "nbconvert_exporter": "python",
   "pygments_lexer": "ipython3",
   "version": "3.8.0"
  }
 },
 "nbformat": 4,
 "nbformat_minor": 1
}
