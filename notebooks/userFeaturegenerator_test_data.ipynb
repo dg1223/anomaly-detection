import csv
import pandas as pd
import pyspark.sql.functions as f
import pyspark.sql.types
from pyspark.sql.types import (
    StructType,
    StructField,
    StringType,
    ArrayType,
    DoubleType,
    TimestampType,
    LongType,
    IntegerType,
)
from pyspark.sql.session import SparkSession
import os
import json
from IPython.display import display

spark = SparkSession.builder.getOrCreate()
from src.caaswx.spark._transformers.userfeaturegenerator import (
    UserFeatureGenerator,
)

# df = spark.createDataFrame(pd.read_csv('data/export(5).csv'))
# df.printSchema()
# df = df.withColumn(
#             "SM_TIMESTAMP",
#             f.col("SM_TIMESTAMP").cast(
#                 TimestampType()
#             ),
#         )
# df.write.parquet('data/parquet_data/user_feature_generator_tests/df.parquet')
# test_df = spark.read.parquet('data/parquet_data/user_feature_generator_tests/df.parquet')
# test_df.printSchema()
# test_df.show()
#
ans_schema = StructType(
    [
        StructField("CN", StringType()),
        StructField(
            "window",
            StructType(
                [StructField("start", StringType()), StructField("end", StringType()),]
            ),
            False,
        ),
        StructField("COUNT_ADMIN_LOGOUT", LongType()),
        StructField("COUNT_AUTH_ACCEPT", LongType()),
        StructField("COUNT_ADMIN_ATTEMPT", LongType()),
        StructField("COUNT_AUTH_REJECT", LongType()),
        StructField("COUNT_AZ_ACCEPT", LongType()),
        StructField("COUNT_AZ_REJECT", LongType()),
        StructField("COUNT_AUTH_LOGOUT", LongType()),
        StructField("COUNT_VISIT", LongType()),
        StructField("COUNT_AUTH_CHALLENGE", LongType()),
        StructField("COUNT_ADMIN_REJECT", LongType()),
        StructField("COUNT_ADMIN_LOGIN", LongType()),
        StructField("COUNT_VALIDATE_ACCEPT", LongType()),
        StructField("COUNT_VALIDATE_REJECT", LongType()),
        StructField("COUNT_FAILED", LongType()),
        StructField("COUNT_GET", LongType()),
        StructField("COUNT_POST", LongType()),
        StructField("COUNT_HTTP_METHODS", LongType()),
        StructField("COUNT_OU_AMS", LongType()),
        StructField("COUNT_OU_CMS", LongType()),
        StructField("COUNT_OU_IDENTITY", LongType()),
        StructField("COUNT_OU_CRED", LongType()),
        StructField("COUNT_OU_SECUREKEY", LongType()),
        StructField("COUNT_PORTAL_MYA", LongType()),
        StructField("COUNT_PORTAL_MYBA", LongType()),
        StructField("COUNT_UNIQUE_ACTIONS", LongType()),
        StructField("COUNT_UNIQUE_IPS", LongType()),
        StructField("COUNT_UNIQUE_EVENTS", LongType()),
        StructField("COUNT_UNIQUE_RESOURCES", LongType()),
        StructField("COUNT_UNIQUE_SESSIONS", LongType()),
        StructField("COUNT_UNIQUE_USERNAME", LongType()),
        StructField("COUNT_RECORDS", LongType()),
        StructField("UNIQUE_SM_ACTIONS", ArrayType(StringType())),
        StructField("UNIQUE_SM_CLIENTIPS", ArrayType(StringType())),
        StructField("UNIQUE_SM_PORTALS", ArrayType(StringType())),
        StructField("UNIQUE_SM_TRANSACTIONS", ArrayType(StringType())),
        StructField("SM_SESSION_IDS", ArrayType(StringType())),
        StructField("COUNT_UNIQUE_OU", IntegerType()),
        StructField("UNIQUE_USER_OU", ArrayType(StringType())),
        StructField("COUNT_UNIQUE_REP", IntegerType()),
        StructField("UNIQUE_PORTAL_RAC", ArrayType(StringType())),
        StructField("UNIQUE_USER_APPS", ArrayType(StringType())),
        StructField("COUNTUNIQUE_USER_APPS", IntegerType()),
        StructField("USER_TIMESTAMP", StringType()),
        StructField("MAX_TIME_BT_RECORDS", LongType()),
        StructField("MIN_TIME_BT_RECORDS", LongType()),
        StructField("AVG_TIME_BT_RECORDS", DoubleType()),
        StructField("UserLoginAttempts", LongType()),
        StructField("UserNumOfPasswordChange", LongType()),
        StructField("UserNumOfAccountsLoginWithSameIPs", LongType()),
        StructField("UserIsUsingUnusualBrowser", IntegerType()),
        StructField("UserAvgFailedLoginsWithSameIPs", IntegerType()),
    ]
)

ans_data = [
    (
        "cn=0935dd13-5b8d-4dc7-98f4-e3f16ae41897",
        {
            "start": "2018-02-01T00:00:00.000+0000",
            "end": "2018-02-01T00:15:00.000+0000",
        },
        0,
        0,
        0,
        0,
        0,
        0,
        0,
        0,
        0,
        0,
        0,
        9,
        0,
        0,
        9,
        0,
        9,
        5,
        4,
        5,
        4,
        0,
        0,
        0,
        1,
        2,
        1,
        6,
        3,
        1,
        9,
        ["GET"],
        [
            "dc59950862e98863d5ed858fffa225b3cf638c5ba89da97c0789830bcbe03f46",
            "b7592207b43888dd379bb638211268f2ef9fa198fdfe714bca4994f6bc308103",

        ],
        ["/smiavalidationrealm",
            "/smauthenticationrealm",
         "/cmsws/redirectjsp/redirect.jsp?SAMLRequest"
         "=fVA9b4MwEN3zK5B38AeEEAuQImWJ1C5t1aFLdTaGUIFNfUbtz69Dh7ZLT6cbnt69u"
         "%2Ffq0xqu9sG8rwZDco5jtBBGZxtyDWFBSameMcXhLdMeUvA6G3Sm4YZ"
         "%2BIF1WNY2aIsyTQHQkuZwb8toVvery6pDv96U6CFDdsejLouy04qbqC54bEamIq7lYDGBDQwTjVcpEyvgTYzI2L19I8mw8bs"
         "%2BIjJHkc54sNmT1VjrAEaWF2aAMWj6e7u9k5MjFu%2BC0m0i7S2LVFrncDvnvbRmB%2FxUA0fhbAqSd3DDaDDb%2F8Nd%2FTX"
         "%2BU211Nf8fYfgE%3D&RelayState=c7e394348bad44528482cdc8d8441873d318e3f6&SigAlg=http%3A%2F%2Fwww.w3.org"
         "%2F2001%2F04%2Fxmldsig-more%23rsa-sha256&Signature=dAZ0GVvTq7gVtLYt7E7WO47ATGQRIT8SPmXP8ioiCXJA2Uw%2B"
         "%2Fa9h9Ua7mOahPcFugRSeJiVVCmJgWn66bpdderv6S64jN9FdpGjPw2OAjMr61NEyma1rxfBx1nVqp6EFR1k1vnwZKyJQI4XvBD817IVwkwoeoYl0eItlmOvx07rqzRTJWIzscKqjUw5w%2Bera4PYDHQmZK9Qqd3uQri2VGP%2BjcydXK3WAOHweLWLS8sRKJk8rho97QK2dO18XK70IJCBrhM9Bwj4QroEQFDnU7uIEQEm%2FiE8TbzHIN3PFg%2FQV6KrFrm1bMS9OWl3jnLWb25%2B2hzL6DIuZ%2BDT9hHK2Bg%3D%3D&SMPORTALURL=https%3A%2F%2Fcms-sgj.cra-arc.gc.ca%2Fcmsws%2Fpublic%2Fsaml2sso",
          "/gol-ged/awsc/amss/enrol/loginCheck",
            "/cms-sgj/prot/postLogin",
           "/gol-ged/awsc/amss/enrol/redirectx/gol-ged/pzaz/tppm/prot/Start.do",
        ],
        [
            "idletime=1200;maxtime=43200;authlevel=50;",
            "idletime=1200;maxtime=43200;authlevel=100;",
            "idletime=1200;maxtime=43200;authlevel=5;",
        ],
        [
            "gxCoecnuWqQzPv1enay6qu8RwVM=",
            "xnE/KzaTA47fZTwRBEfJSsD8mjY=",
            "GQ/HRbEPwe9laRroADbqJ/DwlhU=",

        ],
        2,
        ["ou=Credential,", "ou=Identity,"],
        0,
        [],
        ["/cmsws/", "/gol-ged/", "/cms-sgj/"],
        3,
        "2018-02-01T00:00:33.330+0000",
        2,
        0,
        0.55556,
        0,
        0,
        17,
        0,
        0,
    )
]
# print(ans_schema)

ans_df = spark.createDataFrame(ans_data, schema=ans_schema)

ans_df = ans_df.withColumn(
    "window",
    f.col("window").cast(
        StructType(
            [
                StructField("start", TimestampType()),
                StructField("end", TimestampType()),
            ]
        )
    ),
)
ans_df = ans_df.withColumn(
    "USER_TIMESTAMP", f.col("USER_TIMESTAMP").cast(TimestampType()),
)

ans_df.write.parquet(
    "./data/parquet_data/user_feature_generator_tests/ans_data.parquet"
)
