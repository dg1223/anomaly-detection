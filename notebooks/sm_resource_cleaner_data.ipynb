{
 "cells": [
  {
   "cell_type": "code",
   "execution_count": 4,
   "metadata": {
    "application/vnd.databricks.v1+cell": {
     "inputWidgets": {},
     "nuid": "07a8b0cb-e56d-4481-ad2b-51ac87b28c96",
     "showTitle": false,
     "title": ""
    }
   },
   "outputs": [
    {
     "ename": "AnalysisException",
     "evalue": "path file:/home/vmadmin/PycharmProjects/sw-test/caa-streamworx/data/parquet_data/sm_resource_tests/test_data.parquet already exists.",
     "output_type": "error",
     "traceback": [
      "\u001b[0;31m---------------------------------------------------------------------------\u001b[0m",
      "\u001b[0;31mAnalysisException\u001b[0m                         Traceback (most recent call last)",
      "\u001b[0;32m/tmp/ipykernel_20147/1967506255.py\u001b[0m in \u001b[0;36m<module>\u001b[0;34m\u001b[0m\n\u001b[1;32m     39\u001b[0m \u001b[0mans_dataFrame\u001b[0m \u001b[0;34m=\u001b[0m \u001b[0mspark\u001b[0m\u001b[0;34m.\u001b[0m\u001b[0mcreateDataFrame\u001b[0m\u001b[0;34m(\u001b[0m\u001b[0mansData\u001b[0m\u001b[0;34m,\u001b[0m \u001b[0mansSchema\u001b[0m\u001b[0;34m)\u001b[0m\u001b[0;34m\u001b[0m\u001b[0;34m\u001b[0m\u001b[0m\n\u001b[1;32m     40\u001b[0m \u001b[0;34m\u001b[0m\u001b[0m\n\u001b[0;32m---> 41\u001b[0;31m \u001b[0mtest_dataFrame\u001b[0m\u001b[0;34m.\u001b[0m\u001b[0mwrite\u001b[0m\u001b[0;34m.\u001b[0m\u001b[0mparquet\u001b[0m\u001b[0;34m(\u001b[0m\u001b[0;34m\"/home/vmadmin/PycharmProjects/sw-test/caa-streamworx/data/parquet_data/sm_resource_tests/test_data.parquet\"\u001b[0m\u001b[0;34m)\u001b[0m\u001b[0;34m\u001b[0m\u001b[0;34m\u001b[0m\u001b[0m\n\u001b[0m\u001b[1;32m     42\u001b[0m \u001b[0;34m\u001b[0m\u001b[0m\n\u001b[1;32m     43\u001b[0m \u001b[0mans_dataFrame\u001b[0m\u001b[0;34m.\u001b[0m\u001b[0mwrite\u001b[0m\u001b[0;34m.\u001b[0m\u001b[0mparquet\u001b[0m\u001b[0;34m(\u001b[0m\u001b[0;34m\"/home/vmadmin/PycharmProjects/sw-test/caa-streamworx/data/parquet_data/sm_resource_tests/ans_data.parquet\"\u001b[0m\u001b[0;34m)\u001b[0m\u001b[0;34m\u001b[0m\u001b[0;34m\u001b[0m\u001b[0m\n",
      "\u001b[0;32m~/anaconda3/envs/Aug10/lib/python3.8/site-packages/pyspark/sql/readwriter.py\u001b[0m in \u001b[0;36mparquet\u001b[0;34m(self, path, mode, partitionBy, compression)\u001b[0m\n\u001b[1;32m   1248\u001b[0m             \u001b[0mself\u001b[0m\u001b[0;34m.\u001b[0m\u001b[0mpartitionBy\u001b[0m\u001b[0;34m(\u001b[0m\u001b[0mpartitionBy\u001b[0m\u001b[0;34m)\u001b[0m\u001b[0;34m\u001b[0m\u001b[0;34m\u001b[0m\u001b[0m\n\u001b[1;32m   1249\u001b[0m         \u001b[0mself\u001b[0m\u001b[0;34m.\u001b[0m\u001b[0m_set_opts\u001b[0m\u001b[0;34m(\u001b[0m\u001b[0mcompression\u001b[0m\u001b[0;34m=\u001b[0m\u001b[0mcompression\u001b[0m\u001b[0;34m)\u001b[0m\u001b[0;34m\u001b[0m\u001b[0;34m\u001b[0m\u001b[0m\n\u001b[0;32m-> 1250\u001b[0;31m         \u001b[0mself\u001b[0m\u001b[0;34m.\u001b[0m\u001b[0m_jwrite\u001b[0m\u001b[0;34m.\u001b[0m\u001b[0mparquet\u001b[0m\u001b[0;34m(\u001b[0m\u001b[0mpath\u001b[0m\u001b[0;34m)\u001b[0m\u001b[0;34m\u001b[0m\u001b[0;34m\u001b[0m\u001b[0m\n\u001b[0m\u001b[1;32m   1251\u001b[0m \u001b[0;34m\u001b[0m\u001b[0m\n\u001b[1;32m   1252\u001b[0m     \u001b[0;32mdef\u001b[0m \u001b[0mtext\u001b[0m\u001b[0;34m(\u001b[0m\u001b[0mself\u001b[0m\u001b[0;34m,\u001b[0m \u001b[0mpath\u001b[0m\u001b[0;34m,\u001b[0m \u001b[0mcompression\u001b[0m\u001b[0;34m=\u001b[0m\u001b[0;32mNone\u001b[0m\u001b[0;34m,\u001b[0m \u001b[0mlineSep\u001b[0m\u001b[0;34m=\u001b[0m\u001b[0;32mNone\u001b[0m\u001b[0;34m)\u001b[0m\u001b[0;34m:\u001b[0m\u001b[0;34m\u001b[0m\u001b[0;34m\u001b[0m\u001b[0m\n",
      "\u001b[0;32m~/anaconda3/envs/Aug10/lib/python3.8/site-packages/py4j/java_gateway.py\u001b[0m in \u001b[0;36m__call__\u001b[0;34m(self, *args)\u001b[0m\n\u001b[1;32m   1302\u001b[0m \u001b[0;34m\u001b[0m\u001b[0m\n\u001b[1;32m   1303\u001b[0m         \u001b[0manswer\u001b[0m \u001b[0;34m=\u001b[0m \u001b[0mself\u001b[0m\u001b[0;34m.\u001b[0m\u001b[0mgateway_client\u001b[0m\u001b[0;34m.\u001b[0m\u001b[0msend_command\u001b[0m\u001b[0;34m(\u001b[0m\u001b[0mcommand\u001b[0m\u001b[0;34m)\u001b[0m\u001b[0;34m\u001b[0m\u001b[0;34m\u001b[0m\u001b[0m\n\u001b[0;32m-> 1304\u001b[0;31m         return_value = get_return_value(\n\u001b[0m\u001b[1;32m   1305\u001b[0m             answer, self.gateway_client, self.target_id, self.name)\n\u001b[1;32m   1306\u001b[0m \u001b[0;34m\u001b[0m\u001b[0m\n",
      "\u001b[0;32m~/anaconda3/envs/Aug10/lib/python3.8/site-packages/pyspark/sql/utils.py\u001b[0m in \u001b[0;36mdeco\u001b[0;34m(*a, **kw)\u001b[0m\n\u001b[1;32m    115\u001b[0m                 \u001b[0;31m# Hide where the exception came from that shows a non-Pythonic\u001b[0m\u001b[0;34m\u001b[0m\u001b[0;34m\u001b[0m\u001b[0;34m\u001b[0m\u001b[0m\n\u001b[1;32m    116\u001b[0m                 \u001b[0;31m# JVM exception message.\u001b[0m\u001b[0;34m\u001b[0m\u001b[0;34m\u001b[0m\u001b[0;34m\u001b[0m\u001b[0m\n\u001b[0;32m--> 117\u001b[0;31m                 \u001b[0;32mraise\u001b[0m \u001b[0mconverted\u001b[0m \u001b[0;32mfrom\u001b[0m \u001b[0;32mNone\u001b[0m\u001b[0;34m\u001b[0m\u001b[0;34m\u001b[0m\u001b[0m\n\u001b[0m\u001b[1;32m    118\u001b[0m             \u001b[0;32melse\u001b[0m\u001b[0;34m:\u001b[0m\u001b[0;34m\u001b[0m\u001b[0;34m\u001b[0m\u001b[0m\n\u001b[1;32m    119\u001b[0m                 \u001b[0;32mraise\u001b[0m\u001b[0;34m\u001b[0m\u001b[0;34m\u001b[0m\u001b[0m\n",
      "\u001b[0;31mAnalysisException\u001b[0m: path file:/home/vmadmin/PycharmProjects/sw-test/caa-streamworx/data/parquet_data/sm_resource_tests/test_data.parquet already exists."
     ]
    }
   ],
   "source": [
    "import os\n",
    "import json\n",
    "from pyspark.sql.session import SparkSession\n",
    "from pyspark.sql.types import StructType, StringType, StructField\n",
    "\n",
    "spark = SparkSession.builder.getOrCreate()\n",
    "\n",
    "testSchema = StructType(\n",
    "    [\n",
    "        StructField(\"SM_RESOURCE\", StringType()),\n",
    "    ]\n",
    ")\n",
    "\n",
    "testData = [\n",
    "    (\"/gol-ged/icrabp/bpo/prot/paymentLoading.action?selectedProgram=CBISS&\",),\n",
    "    (\"/gol-ged/awsc/cms/postlogin/welcome?encSAML=U0FNTFJlcXVlc3Q9ZlZCTlQ4TXdETDN2VjFTNXQwbSUyRldHcTFsU2J0TWdrdWdEaHdRWjRYdXFJMktYRXElMkJQbGs0d0Jjc0N3Zm5wNmYlMkZWNjdXOFBaM3B2MzFYQkk5bkdNRnNQb2JDZk9JU3dNVXRMTUtROXZHWGxNMFZNMlVFWjRRVDlZTHV0eEdra3l6bFBCN0VSeTJIZmlSUnRGR2wlMkJwS2xYVk5FV3B5OU1XU2VuNnBsWkhWVGM2VnhpcHpLczVXQTVvUXljS2xldFVsYkVmOHkxVUZaVDZXU1JQeHZQMW1TSlRJdm1jSjh1ZFdMMEZoend5V0p3TlF5QjQyTjNkUXVUQTRsMXc1Q2JSYjVKWXJlVWNyb2Y4OXpaRTRIOEZaRGIlMkJrb0RvSnplTU5zT3JmJTJGenJ2NVUlMkZ5djJtbGI5ajdMOEEmUmVsYXlTdGF0ZT01NzMzM2RiYzQ2YWY1ZTM2NGU1ZTY4MDljOTkwYmYyZDY3ZGMzMDFkJlNpZ0FsZz1odHRwJTNBJTJGJTJGd3d3LnczLm9yZyUyRjIwMDElMkYwNCUyRnhtbGRzaWctbW9yZSUyM3JzYS1zaGEyNTYmU2lnbmF0dXJlPVZiZG5aYjJlV0FRQWJiU29wVXpoeFpaUTk3TExmeXhVQlRVZEtnb3czdzk3JTJCWU5rMFJRWWQxWlZITXZqSmxsOG9tNXJTbXVneEl2bGhFYlU0Mm9xOUVGVVA0TTRmNTUlMkZuZWNjMmRxeGh5RGNxTW1NZU9IYTZuVlJkSW9SRDByQXYwTFlldiUyQjQlMkJ4elV5JTJGblByWHJqZ2glMkZxUCUyRkZ5NVlNTVpVWW03azFBMDc5cG81Z3c3Um9weTI3SkNWV2Q4b2g4cU1VaHpXSlBmR0pXbHN5cEhXY0RyZDFtdHNsWUxiU3IlMkJrOTFSMW1oNjNROW9xbmZYbzhBMjlmZkIzcmhVSHMzRkdkNGtHczQzeGxlMjFjMnA3VUNHV3JEc2NBM2I0YTN4eWtRVVl6dENWUHY2Q0kyc010VUhqJTJCUllGaiUyRkFXUSUyQnhSc3RTM0ZLWmZKU0p3ZkklMkYyeXBiUSUzRCUzRCZTTVBPUlRBTFVSTD1odHRwcyUzQSUyRiUyRmNtcy1zZ2ouY3JhLWFyYy5nYy5jYSUyRmNtc3dzJTJGcHVibGljJTJGc2FtbDJzc28%253D0D442547-3899-DB47-8DA3-08B238D48150/websocket?url=https%3A%2F%2Fcms-sgj.cra-arc.gc.ca%2Fgol-ged%2Fawsc%2Fcms%2Fpostlogin%2Fwelcome%3FencSAML%3DU0FNTFJlcXVlc3Q9ZlZCTlQ4TXdETDN2VjFTNXQwbSUyRldHcTFsU2J0TWdrdWdEaHdRWjRYdXFJMktYRXElMkJQbGs0d0Jjc0N3Zm5wNmYlMkZWNjdXOFBaM3B2MzFYQkk5bkdNRnNQb2JDZk9JU3dNVXRMTUtROXZHWGxNMFZNMlVFWjRRVDlZTHV0eEdra3l6bFBCN0VSeTJIZmlSUnRGR2wlMkJwS2xYVk5FV3B5OU1XU2VuNnBsWkhWVGM2VnhpcHpLczVXQTVvUXljS2xldFVsYkVmOHkxVUZaVDZXU1JQeHZQMW1TSlRJdm1jSjh1ZFdMMEZoend5V0p3TlF5QjQyTjNkUXVUQTRsMXc1Q2JSYjVKWXJlVWNyb2Y4OXpaRTRIOEZaRGIlMkJrb0RvSnplTU5zT3JmJTJGenJ2NVUlMkZ5djJtbGI5ajdMOEEmUmVsYXlTdGF0ZT01NzMzM2RiYzQ2YWY1ZTM2NGU1ZTY4MDljOTkwYmYyZDY3ZGMzMDFkJlNpZ0FsZz1odHRwJTNBJTJGJTJGd3d3LnczLm9yZyUyRjIwMDElMkYwNCUyRnhtbGRzaWctbW9yZSUyM3JzYS1zaGEyNTYmU2lnbmF0dXJlPVZiZG5aYjJlV0FRQWJiU29wVXpoeFpaUTk3TExmeXhVQlRVZEtnb3czdzk3JTJCWU5rMFJRWWQxWlZITXZqSmxsOG9tNXJTbXVneEl2bGhFYlU0Mm9xOUVGVVA0TTRmNTUlMkZuZWNjMmRxeGh5RGNxTW1NZU9IYTZuVlJkSW9SRDByQXYwTFlldiUyQjQlMkJ4elV5JTJGblByWHJqZ2glMkZxUCUyRkZ5NVlNTVpVWW03azFBMDc5cG81Z3c3Um9weTI3SkNWV2Q4b2g4cU1VaHpXSlBmR0pXbHN5cEhXY0RyZDFtdHNsWUxiU3IlMkJrOTFSMW1oNjNROW9xbmZYbzhBMjlmZkIzcmhVSHMzRkdkNGtHczQzeGxlMjFjMnA3VUNHV3JEc2NBM2I0YTN4eWtRVVl6dENWUHY2Q0kyc010VUhqJTJCUllGaiUyRkFXUSUyQnhSc3RTM0ZLWmZKU0p3ZkklMkYyeXBiUSUzRCUzRCZTTVBPUlRBTFVSTD1odHRwcyUzQSUyRiUyRmNtcy1zZ2ouY3JhLWFyYy5nYy5jYSUyRmNtc3dzJTJGcHVibGljJTJGc2FtbDJzc28%25253D&\",),\n",
    "    (\"/gol-ged/ghnf/repmyacct/prot/nwHswgOwnrRbtUpldNxtFilePrv.action\",),\n",
    "    (\"/cmsws/redirectjsp/redirect.jsp?SPID=login.ams-sga.cra-arc.gc.ca&\",),\n",
    "(\"/SMASSERTIONREF=QUERY&SAMLRequest=fVCxboMwEN3zFcg7GAyF9ARIkbJESpe26tClOi4OoQKb%2BIzaz69Dh7ZLb7jh6b139169W%2FzFPOrrotlH%2B7AGg36wphEX72cGKWnimPv3hBzG6CjpKSG8oR8s56UbB5KM06iYrYgO%2B0a8VeeMKl2e81R1XdZpKqkqT1sqiq6o1D2WJ0wDlXnRB8MejW%2BESrNtnBZxnj6rHPIK7opXEb1ox%2BszKgmKz2k03IjFGbDIA4PBSTN4gqfdwxECB2ZnvSU7inYThakNZ7Aect9qCMD%2FDsis3a0B0Y62H0yCa378m7%2BWP87tppa%2Fa2y%2FAA%3D%3D&RelayState=097c88fb50fcd6a04ded69298b10a1ab74fb3511&SigAlg=http%3A%2F%2Fwww.w3.org%2F2001%2F04%2Fxmldsig-more%23rsa-sha256&Signature=C72MSLN2av6LLuJv8KJQkG38ALUTAv6szAtZ8uUE2t%2FM6ntqeWjonid0Xqy%2FAQwhLgWHdEI%2BlRaLT1%2BIfBiJt1R2896km7wDNc%2BKTQ64xMSgEAwLE8dhs767QbGmRjwegRS01ZX6iGDXr4XhhVaS%2F%2FMygFDSOsCWKz1ZVt8qjxJs1GdakhTT6gDyt%2FyW9aXuAMEn5QNFObTGwU1I1BPtR2RodnlN1bQgBjXvDdvgoA1qEwNpveNpNWT01TwH%2FzAYISmEHNY4yQqfZcAkkRH30NwVeOSrosEnVZn%2FnKWdSfBOHd6n4NhmUw8yYsoUQ0lZN05%2BHhj8EnumdocvYsONNw%3D%3D&SSOUrl=https://cms-sgj.cra-arc.gc.ca/cmsws/public/saml2sso&Oid=21-b11c0a70-d3c5-100f-9486-847c3e120001\",),\n",
    "]\n",
    "\n",
    "ansSchema = StructType(\n",
    "        [\n",
    "            StructField(\"SM_RESOURCE\", StringType()),\n",
    "            StructField(\"Cleaned_SM_RESOURCE\", StringType()),\n",
    "        ]\n",
    "    )\n",
    "\n",
    "ansData = [\n",
    "    (\"/gol-ged/icrabp/bpo/prot/paymentLoading.action?selectedProgram=CBISS&\",\"/gol-ged/icrabp/bpo/prot/paymentLoading.action?*\"),\n",
    "    (\"/gol-ged/awsc/cms/postlogin/welcome?encSAML=U0FNTFJlcXVlc3Q9ZlZCTlQ4TXdETDN2VjFTNXQwbSUyRldHcTFsU2J0TWdrdWdEaHdRWjRYdXFJMktYRXElMkJQbGs0d0Jjc0N3Zm5wNmYlMkZWNjdXOFBaM3B2MzFYQkk5bkdNRnNQb2JDZk9JU3dNVXRMTUtROXZHWGxNMFZNMlVFWjRRVDlZTHV0eEdra3l6bFBCN0VSeTJIZmlSUnRGR2wlMkJwS2xYVk5FV3B5OU1XU2VuNnBsWkhWVGM2VnhpcHpLczVXQTVvUXljS2xldFVsYkVmOHkxVUZaVDZXU1JQeHZQMW1TSlRJdm1jSjh1ZFdMMEZoend5V0p3TlF5QjQyTjNkUXVUQTRsMXc1Q2JSYjVKWXJlVWNyb2Y4OXpaRTRIOEZaRGIlMkJrb0RvSnplTU5zT3JmJTJGenJ2NVUlMkZ5djJtbGI5ajdMOEEmUmVsYXlTdGF0ZT01NzMzM2RiYzQ2YWY1ZTM2NGU1ZTY4MDljOTkwYmYyZDY3ZGMzMDFkJlNpZ0FsZz1odHRwJTNBJTJGJTJGd3d3LnczLm9yZyUyRjIwMDElMkYwNCUyRnhtbGRzaWctbW9yZSUyM3JzYS1zaGEyNTYmU2lnbmF0dXJlPVZiZG5aYjJlV0FRQWJiU29wVXpoeFpaUTk3TExmeXhVQlRVZEtnb3czdzk3JTJCWU5rMFJRWWQxWlZITXZqSmxsOG9tNXJTbXVneEl2bGhFYlU0Mm9xOUVGVVA0TTRmNTUlMkZuZWNjMmRxeGh5RGNxTW1NZU9IYTZuVlJkSW9SRDByQXYwTFlldiUyQjQlMkJ4elV5JTJGblByWHJqZ2glMkZxUCUyRkZ5NVlNTVpVWW03azFBMDc5cG81Z3c3Um9weTI3SkNWV2Q4b2g4cU1VaHpXSlBmR0pXbHN5cEhXY0RyZDFtdHNsWUxiU3IlMkJrOTFSMW1oNjNROW9xbmZYbzhBMjlmZkIzcmhVSHMzRkdkNGtHczQzeGxlMjFjMnA3VUNHV3JEc2NBM2I0YTN4eWtRVVl6dENWUHY2Q0kyc010VUhqJTJCUllGaiUyRkFXUSUyQnhSc3RTM0ZLWmZKU0p3ZkklMkYyeXBiUSUzRCUzRCZTTVBPUlRBTFVSTD1odHRwcyUzQSUyRiUyRmNtcy1zZ2ouY3JhLWFyYy5nYy5jYSUyRmNtc3dzJTJGcHVibGljJTJGc2FtbDJzc28%253D0D442547-3899-DB47-8DA3-08B238D48150/websocket?url=https%3A%2F%2Fcms-sgj.cra-arc.gc.ca%2Fgol-ged%2Fawsc%2Fcms%2Fpostlogin%2Fwelcome%3FencSAML%3DU0FNTFJlcXVlc3Q9ZlZCTlQ4TXdETDN2VjFTNXQwbSUyRldHcTFsU2J0TWdrdWdEaHdRWjRYdXFJMktYRXElMkJQbGs0d0Jjc0N3Zm5wNmYlMkZWNjdXOFBaM3B2MzFYQkk5bkdNRnNQb2JDZk9JU3dNVXRMTUtROXZHWGxNMFZNMlVFWjRRVDlZTHV0eEdra3l6bFBCN0VSeTJIZmlSUnRGR2wlMkJwS2xYVk5FV3B5OU1XU2VuNnBsWkhWVGM2VnhpcHpLczVXQTVvUXljS2xldFVsYkVmOHkxVUZaVDZXU1JQeHZQMW1TSlRJdm1jSjh1ZFdMMEZoend5V0p3TlF5QjQyTjNkUXVUQTRsMXc1Q2JSYjVKWXJlVWNyb2Y4OXpaRTRIOEZaRGIlMkJrb0RvSnplTU5zT3JmJTJGenJ2NVUlMkZ5djJtbGI5ajdMOEEmUmVsYXlTdGF0ZT01NzMzM2RiYzQ2YWY1ZTM2NGU1ZTY4MDljOTkwYmYyZDY3ZGMzMDFkJlNpZ0FsZz1odHRwJTNBJTJGJTJGd3d3LnczLm9yZyUyRjIwMDElMkYwNCUyRnhtbGRzaWctbW9yZSUyM3JzYS1zaGEyNTYmU2lnbmF0dXJlPVZiZG5aYjJlV0FRQWJiU29wVXpoeFpaUTk3TExmeXhVQlRVZEtnb3czdzk3JTJCWU5rMFJRWWQxWlZITXZqSmxsOG9tNXJTbXVneEl2bGhFYlU0Mm9xOUVGVVA0TTRmNTUlMkZuZWNjMmRxeGh5RGNxTW1NZU9IYTZuVlJkSW9SRDByQXYwTFlldiUyQjQlMkJ4elV5JTJGblByWHJqZ2glMkZxUCUyRkZ5NVlNTVpVWW03azFBMDc5cG81Z3c3Um9weTI3SkNWV2Q4b2g4cU1VaHpXSlBmR0pXbHN5cEhXY0RyZDFtdHNsWUxiU3IlMkJrOTFSMW1oNjNROW9xbmZYbzhBMjlmZkIzcmhVSHMzRkdkNGtHczQzeGxlMjFjMnA3VUNHV3JEc2NBM2I0YTN4eWtRVVl6dENWUHY2Q0kyc010VUhqJTJCUllGaiUyRkFXUSUyQnhSc3RTM0ZLWmZKU0p3ZkklMkYyeXBiUSUzRCUzRCZTTVBPUlRBTFVSTD1odHRwcyUzQSUyRiUyRmNtcy1zZ2ouY3JhLWFyYy5nYy5jYSUyRmNtc3dzJTJGcHVibGljJTJGc2FtbDJzc28%25253D&\",\"/gol-ged/awsc/cms/postlogin/welcome?*\"),\n",
    "    (\"/gol-ged/ghnf/repmyacct/prot/nwHswgOwnrRbtUpldNxtFilePrv.action\",\"/gol-ged/ghnf/repmyacct/prot/nwHswgOwnrRbtUpldNxtFilePrv.action\"),\n",
    "    (\"/cmsws/redirectjsp/redirect.jsp?SPID=login.ams-sga.cra-arc.gc.ca&\",\"/cmsws/redirectjsp/redirect.jsp?*\"),\n",
    "(\"/SMASSERTIONREF=QUERY&SAMLRequest=fVCxboMwEN3zFcg7GAyF9ARIkbJESpe26tClOi4OoQKb%2BIzaz69Dh7ZLb7jh6b139169W%2FzFPOrrotlH%2B7AGg36wphEX72cGKWnimPv3hBzG6CjpKSG8oR8s56UbB5KM06iYrYgO%2B0a8VeeMKl2e81R1XdZpKqkqT1sqiq6o1D2WJ0wDlXnRB8MejW%2BESrNtnBZxnj6rHPIK7opXEb1ox%2BszKgmKz2k03IjFGbDIA4PBSTN4gqfdwxECB2ZnvSU7inYThakNZ7Aect9qCMD%2FDsis3a0B0Y62H0yCa378m7%2BWP87tppa%2Fa2y%2FAA%3D%3D&RelayState=097c88fb50fcd6a04ded69298b10a1ab74fb3511&SigAlg=http%3A%2F%2Fwww.w3.org%2F2001%2F04%2Fxmldsig-more%23rsa-sha256&Signature=C72MSLN2av6LLuJv8KJQkG38ALUTAv6szAtZ8uUE2t%2FM6ntqeWjonid0Xqy%2FAQwhLgWHdEI%2BlRaLT1%2BIfBiJt1R2896km7wDNc%2BKTQ64xMSgEAwLE8dhs767QbGmRjwegRS01ZX6iGDXr4XhhVaS%2F%2FMygFDSOsCWKz1ZVt8qjxJs1GdakhTT6gDyt%2FyW9aXuAMEn5QNFObTGwU1I1BPtR2RodnlN1bQgBjXvDdvgoA1qEwNpveNpNWT01TwH%2FzAYISmEHNY4yQqfZcAkkRH30NwVeOSrosEnVZn%2FnKWdSfBOHd6n4NhmUw8yYsoUQ0lZN05%2BHhj8EnumdocvYsONNw%3D%3D&SSOUrl=https://cms-sgj.cra-arc.gc.ca/cmsws/public/saml2sso&Oid=21-b11c0a70-d3c5-100f-9486-847c3e120001\",\"/cmsws/public/saml2sso\"),\n",
    "]\n",
    "\n",
    "\n",
    "test_dataFrame = spark.createDataFrame(testData, testSchema)\n",
    "ans_dataFrame = spark.createDataFrame(ansData, ansSchema)\n",
    "\n",
    "test_dataFrame.write.parquet(\"/home/vmadmin/PycharmProjects/sw-test/caa-streamworx/data/parquet_data/sm_resource_tests/test_data.parquet\")\n",
    "\n",
    "ans_dataFrame.write.parquet(\"/home/vmadmin/PycharmProjects/sw-test/caa-streamworx/data/parquet_data/sm_resource_tests/ans_data.parquet\")\n",
    "# with open('./data/JSON/sm_resource_tests/ans_data_schema.json', 'w') as outfile:\n",
    "#     json.dump(ans_dataFrame.schema.json(), outfile)"
   ]
  },
  {
   "cell_type": "code",
   "execution_count": 1,
   "metadata": {},
   "outputs": [
    {
     "name": "stdout",
     "output_type": "stream",
     "text": [
      "/home/vmadmin/PycharmProjects/sw-test/caa-streamworx/notebooks\r\n"
     ]
    }
   ],
   "source": [
    "!pwd"
   ]
  },
  {
   "cell_type": "code",
   "execution_count": null,
   "metadata": {},
   "outputs": [],
   "source": []
  }
 ],
 "metadata": {
  "application/vnd.databricks.v1+notebook": {
   "dashboards": [],
   "language": "python",
   "notebookMetadata": {
    "pythonIndentUnit": 2
   },
   "notebookName": "sm_resource_cleaner_data",
   "notebookOrigID": 4491855700459725,
   "widgets": {}
  },
  "kernelspec": {
   "display_name": "Python 3 (ipykernel)",
   "language": "python",
   "name": "python3"
  },
  "language_info": {
   "codemirror_mode": {
    "name": "ipython",
    "version": 3
   },
   "file_extension": ".py",
   "mimetype": "text/x-python",
   "name": "python",
   "nbconvert_exporter": "python",
   "pygments_lexer": "ipython3",
   "version": "3.8.0"
  }
 },
 "nbformat": 4,
 "nbformat_minor": 1
}
