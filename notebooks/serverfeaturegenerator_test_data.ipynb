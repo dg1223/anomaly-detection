{
 "cells": [
  {
   "cell_type": "code",
   "execution_count": 1,
   "id": "ba90c924",
   "metadata": {},
   "outputs": [],
   "source": [
    "import pyspark\n",
    "from pyspark.context import SparkContext\n",
    "from pyspark.sql.session import SparkSession\n",
    "from pyspark.sql.functions import to_timestamp, col, shuffle, rand\n",
    "from pyspark.sql.types import LongType, DoubleType, StringType, TimestampType, StructType, StructField, DateType, FloatType, IntegerType, ArrayType\n",
    "import datetime"
   ]
  },
  {
   "cell_type": "code",
   "execution_count": 2,
   "id": "1c04b792",
   "metadata": {},
   "outputs": [
    {
     "name": "stderr",
     "output_type": "stream",
     "text": [
      "WARNING: An illegal reflective access operation has occurred\n",
      "WARNING: Illegal reflective access by org.apache.spark.unsafe.Platform (file:/home/vmadmin/anaconda3/envs/Aug10/lib/python3.8/site-packages/pyspark/jars/spark-unsafe_2.12-3.1.2.jar) to constructor java.nio.DirectByteBuffer(long,int)\n",
      "WARNING: Please consider reporting this to the maintainers of org.apache.spark.unsafe.Platform\n",
      "WARNING: Use --illegal-access=warn to enable warnings of further illegal reflective access operations\n",
      "WARNING: All illegal access operations will be denied in a future release\n",
      "21/09/07 21:16:54 WARN NativeCodeLoader: Unable to load native-hadoop library for your platform... using builtin-java classes where applicable\n",
      "Using Spark's default log4j profile: org/apache/spark/log4j-defaults.properties\n",
      "Setting default log level to \"WARN\".\n",
      "To adjust logging level use sc.setLogLevel(newLevel). For SparkR, use setLogLevel(newLevel).\n",
      "21/09/07 21:16:55 WARN Utils: Service 'SparkUI' could not bind on port 4040. Attempting port 4041.\n"
     ]
    }
   ],
   "source": [
    "sc = SparkContext(\"local\")\n",
    "spark = SparkSession(sc)"
   ]
  },
  {
   "cell_type": "code",
   "execution_count": 3,
   "id": "4913ff42",
   "metadata": {},
   "outputs": [],
   "source": [
    "test_df_schema = StructType([\n",
    "  StructField('SM_USERNAME', StringType()),\n",
    "  StructField('SM_RESOURCE', StringType()),\n",
    "  StructField('SM_TIMESTAMP_TEMP', StringType()), \n",
    "  StructField('SM_EVENTID', LongType()), \n",
    "  StructField('SM_CLIENTIP', StringType())\n",
    "])\n",
    "\n",
    "ans_schema = StructType([\n",
    "    StructField('window_temp', StructType([  \n",
    "    StructField('start', StringType()),\n",
    "    StructField('end', StringType())\n",
    "  ])),\n",
    "  StructField('StartTime',StringType()), \n",
    "  StructField('EndTime', StringType()),\n",
    "  StructField('VolOfAllLoginAttempts', LongType()),\n",
    "  StructField('VolOfAllFailedLogins', LongType()),\n",
    "  StructField('NumOfReqsToChangePasswords', LongType()),\n",
    "  StructField('MaxOfFailedLoginsWithSameIPs', LongType()),\n",
    "  StructField('NumOfIPsLoginMultiAccounts', LongType()),\n",
    "  StructField('NumOfUsersWithEqualIntervalBtnReqs', LongType()), \n",
    "])\n"
   ]
  },
  {
   "cell_type": "code",
   "execution_count": 4,
   "id": "a05dfe09",
   "metadata": {},
   "outputs": [],
   "source": [
    "def process_test_data(test_data):\n",
    "    test_df = spark.createDataFrame(test_data, schema=test_df_schema)\n",
    "    test_df = test_df.withColumn('SM_TIMESTAMP', col('SM_TIMESTAMP_TEMP').cast('timestamp'))\n",
    "    test_df = test_df.drop('SM_TIMESTAMP_TEMP')\n",
    "    return test_df\n",
    "\n",
    "def process_expected_data(expected_data):\n",
    "    ans_df = spark.createDataFrame(expected_data, schema=ans_schema)\n",
    "    ans_df = ans_df.withColumn('window', col('window_temp').cast(StructType([StructField('start', TimestampType()),StructField('end', TimestampType())])))\n",
    "    ans_df = ans_df.drop('window_temp')\n",
    "    ans_df = ans_df.withColumn('StartTime', col('StartTime').cast(TimestampType()))\n",
    "    ans_df = ans_df.withColumn('EndTime', col('EndTime').cast(TimestampType()))\n",
    "    ans_df = ans_df.select('window', 'StartTime', 'EndTime', 'VolOfAllLoginAttempts', 'VolOfAllFailedLogins', 'NumOfReqsToChangePasswords', 'MaxOfFailedLoginsWithSameIPs', \\\n",
    "                       'NumOfIPsLoginMultiAccounts', 'NumOfUsersWithEqualIntervalBtnReqs')\n",
    "    return ans_df"
   ]
  },
  {
   "cell_type": "code",
   "execution_count": 5,
   "id": "d32acc9f",
   "metadata": {},
   "outputs": [],
   "source": [
    "user2_one_window = [\n",
    "  ('cn=u1,ou=Identity', '/path/changePassword', '2018-02-01T00:00:00.000+0000', 1, 'IP1'), \n",
    "  ('cn=u1,ou=Identity', '/path/changePassword', '2018-02-01T00:00:01.000+0000', 1, 'IP1'), \n",
    "  ('cn=u1,ou=Identity', '/path/changePassword', '2018-02-01T00:00:03.000+0000', 1, 'IP1'),\n",
    "  ('cn=u2,ou=Identity', '/path/changePassword', '2018-02-01T00:00:03.000+0000', 1, 'IP1'),\n",
    "  ('cn=u2,ou=Identity', '/path/changePassword', '2018-02-01T00:00:06.000+0000', 1, 'IP1') \n",
    "]\n",
    "\n",
    "expected_2user_one_window = [\n",
    "  \n",
    "  ({\"start\": \"2018-02-01T00:00:00.000+0000\", \"end\": \"2018-02-01T00:15:00.000+0000\"}, '2018-02-01T00:00:00.000+0000', '2018-02-01T00:15:00.000+0000', 5, 0, 5, 0, 1, 2)\n",
    "]\n",
    "\n",
    "user2_one_window_df = process_test_data(user2_one_window)\n",
    "expected_2user_one_window_df = process_expected_data(expected_2user_one_window)"
   ]
  },
  {
   "cell_type": "code",
   "execution_count": 7,
   "id": "a09e1b6a",
   "metadata": {},
   "outputs": [
    {
     "name": "stderr",
     "output_type": "stream",
     "text": [
      "                                                                                \r"
     ]
    }
   ],
   "source": [
    "user2_one_window_df.write.parquet('/home/vmadmin/PycharmProjects/sw-test/caa-streamworx/data/parquet_data/server_feature_generator_tests/user2_one_window_df.parquet')\n",
    "expected_2user_one_window_df.write.parquet('/home/vmadmin/PycharmProjects/sw-test/caa-streamworx/data/parquet_data/server_feature_generator_tests/expected_2user_one_window_df.parquet')"
   ]
  },
  {
   "cell_type": "code",
   "execution_count": 6,
   "id": "1d1ac984",
   "metadata": {},
   "outputs": [],
   "source": [
    "user5_one_window = [\n",
    "  ('cn=u1,ou=Identity', '/path/changePassword', '2018-02-01T00:00:00.000+0000', 6, 'IP1'), \n",
    "  ('cn=u2,ou=Identity', '/path/changePassword', '2018-02-01T00:00:01.000+0000', 6, 'IP1'), \n",
    "  ('cn=u3,ou=Identity', '/path/changePassword', '2018-02-01T00:00:03.000+0000', 6, 'IP1'),\n",
    "  ('cn=u4,ou=Identity', '/path/changePassword', '2018-02-01T00:00:03.000+0000', 6, 'IP1'),\n",
    "  ('cn=u5,ou=Identity', '/path/changePassword', '2018-02-01T00:00:06.000+0000', 6, 'IP1') \n",
    "]\n",
    "\n",
    "expected_5user_one_window = [\n",
    "  \n",
    "  ({\"start\": \"2018-02-01T00:00:00.000+0000\", \"end\": \"2018-02-01T00:15:00.000+0000\"}, '2018-02-01T00:00:00.000+0000', '2018-02-01T00:15:00.000+0000', 5, 5, 5, 5, 1, 0)\n",
    "]\n",
    "\n",
    "user5_one_window_df = process_test_data(user5_one_window)\n",
    "expected_5user_one_window_df = process_expected_data(expected_5user_one_window)"
   ]
  },
  {
   "cell_type": "code",
   "execution_count": 8,
   "id": "2f0966df",
   "metadata": {},
   "outputs": [],
   "source": [
    "user5_one_window_df.write.parquet('/home/vmadmin/PycharmProjects/sw-test/caa-streamworx/data/parquet_data/server_feature_generator_tests/user5_one_window_df.parquet')\n",
    "expected_5user_one_window_df.write.parquet('/home/vmadmin/PycharmProjects/sw-test/caa-streamworx/data/parquet_data/server_feature_generator_tests/expected_5user_one_window_df.parquet')"
   ]
  },
  {
   "cell_type": "code",
   "execution_count": 9,
   "id": "e00a905c",
   "metadata": {},
   "outputs": [],
   "source": [
    "user1_ip2_one_window = [\n",
    "  ('cn=u1,ou=Identity', '/path/changePassword', '2018-02-01T00:00:00.000+0000', 6, 'IP1'), \n",
    "  ('cn=u1,ou=Identity', '/path/changePassword', '2018-02-01T00:00:01.000+0000', 6, 'IP1'), \n",
    "  ('cn=u1,ou=Identity', '/path/changePassword', '2018-02-01T00:00:03.000+0000', 6, 'IP1'),\n",
    "  ('cn=u2,ou=Identity', '/path/changePassword', '2018-02-01T00:00:03.000+0000', 6, 'IP2'),\n",
    "  ('cn=u2,ou=Identity', '/path/changePassword', '2018-02-01T00:00:06.000+0000', 6, 'IP2') \n",
    "]\n",
    "\n",
    "expected_1user_ip2_one_window = [\n",
    "  \n",
    "  ({\"start\": \"2018-02-01T00:00:00.000+0000\", \"end\": \"2018-02-01T00:15:00.000+0000\"}, '2018-02-01T00:00:00.000+0000', '2018-02-01T00:15:00.000+0000', 5, 5, 5, 3, 0, 2)\n",
    "]\n",
    "\n",
    "user1_ip2_one_window_df = process_test_data(user1_ip2_one_window)\n",
    "expected_1user_ip2_one_window_df = process_expected_data(expected_1user_ip2_one_window)"
   ]
  },
  {
   "cell_type": "code",
   "execution_count": 10,
   "id": "bca9d6dd",
   "metadata": {},
   "outputs": [],
   "source": [
    "user1_ip2_one_window_df.write.parquet('/home/vmadmin/PycharmProjects/sw-test/caa-streamworx/data/parquet_data/server_feature_generator_tests/user1_ip2_one_window_df.parquet')\n",
    "expected_1user_ip2_one_window_df.write.parquet('/home/vmadmin/PycharmProjects/sw-test/caa-streamworx/data/parquet_data/server_feature_generator_tests/expected_1user_ip2_one_window_df.parquet')"
   ]
  },
  {
   "cell_type": "code",
   "execution_count": 11,
   "id": "56102727",
   "metadata": {},
   "outputs": [],
   "source": [
    "user1_ip1_two_window = [\n",
    "  ('cn=u1,ou=Identity', '/path/changePassword', '2018-02-01T00:00:00.000+0000', 6, 'IP1'), \n",
    "  ('cn=u1,ou=Identity', '/path/changePassword', '2018-02-01T00:00:01.000+0000', 6, 'IP1'), \n",
    "  ('cn=u1,ou=Identity', '/path/changePassword', '2018-02-01T00:00:03.000+0000', 6, 'IP1'),\n",
    "  ('cn=u1,ou=Identity', '/path/changePassword', '2018-02-01T00:17:00.000+0000', 6, 'IP1'), \n",
    "  ('cn=u1,ou=Identity', '/path/changePassword', '2018-02-01T00:18:01.000+0000', 6, 'IP1'), \n",
    "  ('cn=u1,ou=Identity', '/path/changePassword', '2018-02-01T00:19:03.000+0000', 6, 'IP1'),\n",
    "  \n",
    "]\n",
    "\n",
    "expected_1user_ip1_two_window = [\n",
    "  \n",
    "  ({\"start\": \"2018-02-01T00:00:00.000+0000\", \"end\": \"2018-02-01T00:15:00.000+0000\"}, '2018-02-01T00:00:00.000+0000', '2018-02-01T00:15:00.000+0000', 3, 3, 3, 3, 0, 1), \n",
    "  ({\"start\": \"2018-02-01T00:15:00.000+0000\", \"end\": \"2018-02-01T00:30:00.000+0000\"}, '2018-02-01T00:15:00.000+0000', '2018-02-01T00:30:00.000+0000', 3, 3, 3, 3, 0, 1)\n",
    "]\n",
    "\n",
    "user1_ip1_two_window_df = process_test_data(user1_ip1_two_window)\n",
    "expected_1user_ip1_two_window_df = process_expected_data(expected_1user_ip1_two_window)"
   ]
  },
  {
   "cell_type": "code",
   "execution_count": 12,
   "id": "175e4b89",
   "metadata": {},
   "outputs": [],
   "source": [
    "user1_ip1_two_window_df.write.parquet('/home/vmadmin/PycharmProjects/sw-test/caa-streamworx/data/parquet_data/server_feature_generator_tests/user1_ip1_two_window_df.parquet')\n",
    "expected_1user_ip1_two_window_df.write.parquet('/home/vmadmin/PycharmProjects/sw-test/caa-streamworx/data/parquet_data/server_feature_generator_tests/expected_1user_ip1_two_window_df.parquet')"
   ]
  },
  {
   "cell_type": "code",
   "execution_count": null,
   "id": "2c60c042",
   "metadata": {},
   "outputs": [],
   "source": []
  }
 ],
 "metadata": {
  "kernelspec": {
   "display_name": "Python 3 (ipykernel)",
   "language": "python",
   "name": "python3"
  },
  "language_info": {
   "codemirror_mode": {
    "name": "ipython",
    "version": 3
   },
   "file_extension": ".py",
   "mimetype": "text/x-python",
   "name": "python",
   "nbconvert_exporter": "python",
   "pygments_lexer": "ipython3",
   "version": "3.8.0"
  }
 },
 "nbformat": 4,
 "nbformat_minor": 5
}
