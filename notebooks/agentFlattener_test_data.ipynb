{
 "cells": [
  {
   "cell_type": "code",
   "execution_count": 1,
   "id": "4bfda7b9",
   "metadata": {},
   "outputs": [
    {
     "name": "stderr",
     "output_type": "stream",
     "text": [
      "WARNING: An illegal reflective access operation has occurred\n",
      "WARNING: Illegal reflective access by org.apache.spark.unsafe.Platform (file:/home/vmadmin/anaconda3/envs/Aug10/lib/python3.8/site-packages/pyspark/jars/spark-unsafe_2.12-3.1.2.jar) to constructor java.nio.DirectByteBuffer(long,int)\n",
      "WARNING: Please consider reporting this to the maintainers of org.apache.spark.unsafe.Platform\n",
      "WARNING: Use --illegal-access=warn to enable warnings of further illegal reflective access operations\n",
      "WARNING: All illegal access operations will be denied in a future release\n",
      "21/08/11 20:05:16 WARN NativeCodeLoader: Unable to load native-hadoop library for your platform... using builtin-java classes where applicable\n",
      "Using Spark's default log4j profile: org/apache/spark/log4j-defaults.properties\n",
      "Setting default log level to \"WARN\".\n",
      "To adjust logging level use sc.setLogLevel(newLevel). For SparkR, use setLogLevel(newLevel).\n"
     ]
    }
   ],
   "source": [
    "import pyspark.sql.functions as f\n",
    "import pyspark.sql.types\n",
    "from pyspark.sql.types import (\n",
    "    StructType,\n",
    "    StructField,\n",
    "    StringType,\n",
    "    ArrayType,\n",
    "    TimestampType,\n",
    ")\n",
    "from pyspark.sql.session import SparkSession\n",
    "import os\n",
    "spark = SparkSession.builder.getOrCreate()"
   ]
  },
  {
   "cell_type": "code",
   "execution_count": 11,
   "id": "8df0a3d7",
   "metadata": {},
   "outputs": [
    {
     "name": "stdout",
     "output_type": "stream",
     "text": [
      "+-----------+--------------------+--------------------+\n",
      "|SM_CLIENTIP|        SM_AGENTNAME|        SM_TIMESTAMP|\n",
      "+-----------+--------------------+--------------------+\n",
      "|     User_A|Mozilla/5.0 (Maci...|2018-01-01T18:32:...|\n",
      "|     User_A|Mozilla/5.0 (Maci...|2018-01-01T18:32:...|\n",
      "|     User_A|Mozilla/5.0 (Maci...|2018-01-01T18:32:...|\n",
      "|     User_A|Mozilla/5.0 (Maci...|2018-01-01T18:32:...|\n",
      "+-----------+--------------------+--------------------+\n",
      "\n"
     ]
    }
   ],
   "source": [
    "test_schema = StructType(\n",
    "    [\n",
    "        StructField(\"SM_CLIENTIP\", StringType()),\n",
    "        StructField(\"SM_AGENTNAME\", StringType()),\n",
    "        StructField(\"SM_TIMESTAMP\", StringType()),\n",
    "    ]\n",
    ")\n",
    "\n",
    "test_1_data = [\n",
    "    (\n",
    "        \"User_A\",\n",
    "        \"Mozilla/5.0 (Macintosh; Intel Mac OS X 10_12_6) AppleWebKit/537.36 (KHTML, like Gecko) \"\n",
    "        \"Chrome/63.0.3239.84\",\n",
    "        \"2018-01-01T18:32:26.000+0000\",\n",
    "    ),\n",
    "    (\n",
    "        \"User_A\",\n",
    "        \"Mozilla/5.0 (Macintosh; Intel Mac OS X 10_12_6) AppleWebKit/537.36 (KHTML, like Gecko) \"\n",
    "        \"Chrome/63.0.3239.84 Safari/537.36\",\n",
    "        \"2018-01-01T18:32:26.000+0000\",\n",
    "    ),\n",
    "    (\n",
    "        \"User_A\",\n",
    "        \"Mozilla/5.0 (Macintosh; Intel Mac OS X 10_12_6) AppleWebKit/537.36 (KHTML, like Gecko) \"\n",
    "        \"Chrome/63.0.3239.84\",\n",
    "        \"2018-01-01T18:32:26.000+0000\",\n",
    "    ),\n",
    "    (\n",
    "        \"User_A\",\n",
    "        \"Mozilla/5.0 (Macintosh; Intel Mac OS X 10_12_6) AppleWebKit/537.36 (KHTML, like Gecko) \"\n",
    "        \"Chrome/63.0.3239.84 Safari/537.36\",\n",
    "        \"2018-01-01T18:32:26.000+0000\",\n",
    "    ),\n",
    "]\n",
    "\n",
    "df = spark.createDataFrame(test_1_data, schema=test_schema)\n",
    "df.show()"
   ]
  },
  {
   "cell_type": "code",
   "execution_count": 13,
   "id": "acf6bac5",
   "metadata": {},
   "outputs": [
    {
     "name": "stdout",
     "output_type": "stream",
     "text": [
      "+-----------+--------------------+--------------------+\n",
      "|SM_CLIENTIP|              window| Parsed_Agent_String|\n",
      "+-----------+--------------------+--------------------+\n",
      "|     User_A|{2018-01-01 18:30...|[{flavor={name=Ma...|\n",
      "+-----------+--------------------+--------------------+\n",
      "\n"
     ]
    }
   ],
   "source": [
    "ans_1_schema = StructType(\n",
    "    [\n",
    "        StructField(\"SM_CLIENTIP\", StringType()),\n",
    "        StructField(\n",
    "            \"windowtmp\",\n",
    "            StructType(\n",
    "                [\n",
    "                    StructField(\"start\", StringType(),False),\n",
    "                    StructField(\"end\", StringType()),\n",
    "                ]\n",
    "            ),\n",
    "            False,\n",
    "        ),\n",
    "        StructField(\"Parsed_Agent_String\", StringType()),\n",
    "    ]\n",
    ")\n",
    "\n",
    "\n",
    "ans_1_data = [\n",
    "    (\n",
    "        \"User_A\",\n",
    "        {\n",
    "            \"start\": \"2018-01-01T18:30:00.000+0000\",\n",
    "            \"end\": \"2018-01-01T18:45:00.000+0000\",\n",
    "        },\n",
    "        [\n",
    "            {\n",
    "                \"platform\": {\"name\": \"Mac OS\", \"version\": \"X 10.12.6\"},\n",
    "                \"os\": {\"name\": \"Macintosh\"},\n",
    "                \"bot\": False,\n",
    "                \"flavor\": {\"name\": \"MacOS\", \"version\": \"X 10.12.6\"},\n",
    "                \"browser\": {\"name\": \"Chrome\", \"version\": \"63.0.3239.84\"},\n",
    "            }\n",
    "        ],\n",
    "    )\n",
    "]\n",
    "\n",
    "ans_1_df = spark.createDataFrame(ans_1_data, schema=ans_1_schema)\n",
    "ans_1_df = ans_1_df.withColumn(\n",
    "            \"window\",\n",
    "            f.col(\"windowtmp\").cast(\n",
    "                StructType(\n",
    "                    [\n",
    "                        StructField(\"start\", TimestampType()),\n",
    "                        StructField(\"end\", TimestampType()),\n",
    "                    ]\n",
    "                )\n",
    "            ),\n",
    "        ).drop(\"windowtmp\")\n",
    "ans_1_df = ans_1_df.select([\"SM_CLIENTIP\", \"window\", \"Parsed_Agent_String\"])\n",
    "ans_1_df.show()"
   ]
  },
  {
   "cell_type": "code",
   "execution_count": 15,
   "id": "76cb3525",
   "metadata": {},
   "outputs": [
    {
     "name": "stdout",
     "output_type": "stream",
     "text": [
      "+-----------+--------------------+--------------------+\n",
      "|SM_CLIENTIP|              window|        SM_AGENTNAME|\n",
      "+-----------+--------------------+--------------------+\n",
      "|     User_A|{2018-01-01 18:30...|[Mozilla/5.0 (Mac...|\n",
      "+-----------+--------------------+--------------------+\n",
      "\n"
     ]
    }
   ],
   "source": [
    "ans_2_schema = StructType(\n",
    "    [\n",
    "        StructField(\"SM_CLIENTIP\", StringType()),\n",
    "        StructField(\n",
    "            \"windowtmp\",\n",
    "            StructType(\n",
    "                [\n",
    "                    StructField(\"start\", StringType()),\n",
    "                    StructField(\"end\", StringType()),\n",
    "                ]\n",
    "            ),\n",
    "            False,\n",
    "        ),\n",
    "        StructField(\"SM_AGENTNAME\", ArrayType(StringType(), False), False),\n",
    "    ]\n",
    ")\n",
    "\n",
    "ans_2_data = [\n",
    "    (\n",
    "        \"User_A\",\n",
    "        {\n",
    "            \"start\": \"2018-01-01T18:30:00.000+0000\",\n",
    "            \"end\": \"2018-01-01T18:45:00.000+0000\",\n",
    "        },\n",
    "        [\n",
    "            \"Mozilla/5.0 (Macintosh; Intel Mac OS X 10_12_6) AppleWebKit/537.36 (KHTML, like Gecko) \"\n",
    "            \"Chrome/63.0.3239.84\",\n",
    "            \"Mozilla/5.0 (Macintosh; Intel Mac OS X 10_12_6) AppleWebKit/537.36 (KHTML, like Gecko) \"\n",
    "            \"Chrome/63.0.3239.84 Safari/537.36\",\n",
    "        ],\n",
    "    )\n",
    "]\n",
    "\n",
    "ans_2_df = spark.createDataFrame(ans_2_data, schema=ans_2_schema)\n",
    "ans_2_df = ans_2_df.withColumn(\n",
    "            \"window\",\n",
    "            f.col(\"windowtmp\").cast(\n",
    "                StructType(\n",
    "                    [\n",
    "                        StructField(\"start\", TimestampType()),\n",
    "                        StructField(\"end\", TimestampType()),\n",
    "                    ]\n",
    "                )\n",
    "            ),\n",
    "        ).drop(\"windowtmp\")\n",
    "\n",
    "ans_2_df = ans_2_df.select([\"SM_CLIENTIP\", \"window\", \"SM_AGENTNAME\"])\n",
    "ans_2_df.show()"
   ]
  }
 ],
 "metadata": {
  "kernelspec": {
   "display_name": "Python 3 (ipykernel)",
   "language": "python",
   "name": "python3"
  },
  "language_info": {
   "codemirror_mode": {
    "name": "ipython",
    "version": 3
   },
   "file_extension": ".py",
   "mimetype": "text/x-python",
   "name": "python",
   "nbconvert_exporter": "python",
   "pygments_lexer": "ipython3",
   "version": "3.8.0"
  }
 },
 "nbformat": 4,
 "nbformat_minor": 5
}
